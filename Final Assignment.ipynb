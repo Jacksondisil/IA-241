{
 "cells": [
  {
   "cell_type": "markdown",
   "id": "8ab67843",
   "metadata": {},
   "source": [
    "# Analyzing Covid-19 Data of Ethiopia in 2020"
   ]
  },
  {
   "cell_type": "markdown",
   "id": "616bda0d",
   "metadata": {},
   "source": [
    " Covid-19 is an infectious disease that is spread through droplets of saliva when an infected person coughs or sneezes"
   ]
  },
  {
   "cell_type": "markdown",
   "id": "7a49fa12",
   "metadata": {},
   "source": [
    "## Data Source"
   ]
  },
  {
   "cell_type": "markdown",
   "id": "d33bb5df",
   "metadata": {},
   "source": [
    "This data is downloaded from the [European Centre for Disease Prevention and Control](https://www.ecdc.europa.eu/en/publications-data/download-todays-data-geographic-distribution-covid-19-cases-worldwide)"
   ]
  },
  {
   "cell_type": "code",
   "execution_count": 5,
   "id": "eca796a8",
   "metadata": {},
   "outputs": [],
   "source": [
    "%matplotlib inline\n",
    "\n",
    "import pandas"
   ]
  },
  {
   "cell_type": "markdown",
   "id": "4147e47c",
   "metadata": {},
   "source": [
    "## Covid-19 Data in Ethiopia"
   ]
  },
  {
   "cell_type": "code",
   "execution_count": 9,
   "id": "07ea0a08",
   "metadata": {
    "scrolled": true
   },
   "outputs": [
    {
     "data": {
      "text/html": [
       "<div>\n",
       "<style scoped>\n",
       "    .dataframe tbody tr th:only-of-type {\n",
       "        vertical-align: middle;\n",
       "    }\n",
       "\n",
       "    .dataframe tbody tr th {\n",
       "        vertical-align: top;\n",
       "    }\n",
       "\n",
       "    .dataframe thead th {\n",
       "        text-align: right;\n",
       "    }\n",
       "</style>\n",
       "<table border=\"1\" class=\"dataframe\">\n",
       "  <thead>\n",
       "    <tr style=\"text-align: right;\">\n",
       "      <th></th>\n",
       "      <th>dateRep</th>\n",
       "      <th>day</th>\n",
       "      <th>month</th>\n",
       "      <th>year</th>\n",
       "      <th>cases</th>\n",
       "      <th>deaths</th>\n",
       "      <th>countriesAndTerritories</th>\n",
       "      <th>geoId</th>\n",
       "      <th>countryterritoryCode</th>\n",
       "      <th>popData2019</th>\n",
       "      <th>continentExp</th>\n",
       "      <th>Cumulative_number_for_14_days_of_COVID-19_cases_per_100000</th>\n",
       "    </tr>\n",
       "  </thead>\n",
       "  <tbody>\n",
       "    <tr>\n",
       "      <th>18935</th>\n",
       "      <td>2020-12-12</td>\n",
       "      <td>12</td>\n",
       "      <td>12</td>\n",
       "      <td>2020</td>\n",
       "      <td>422</td>\n",
       "      <td>12</td>\n",
       "      <td>Ethiopia</td>\n",
       "      <td>ET</td>\n",
       "      <td>ETH</td>\n",
       "      <td>112078727.0</td>\n",
       "      <td>Africa</td>\n",
       "      <td>6.552537</td>\n",
       "    </tr>\n",
       "    <tr>\n",
       "      <th>18936</th>\n",
       "      <td>2020-12-11</td>\n",
       "      <td>11</td>\n",
       "      <td>12</td>\n",
       "      <td>2020</td>\n",
       "      <td>526</td>\n",
       "      <td>10</td>\n",
       "      <td>Ethiopia</td>\n",
       "      <td>ET</td>\n",
       "      <td>ETH</td>\n",
       "      <td>112078727.0</td>\n",
       "      <td>Africa</td>\n",
       "      <td>6.862141</td>\n",
       "    </tr>\n",
       "    <tr>\n",
       "      <th>18937</th>\n",
       "      <td>2020-12-10</td>\n",
       "      <td>10</td>\n",
       "      <td>12</td>\n",
       "      <td>2020</td>\n",
       "      <td>568</td>\n",
       "      <td>3</td>\n",
       "      <td>Ethiopia</td>\n",
       "      <td>ET</td>\n",
       "      <td>ETH</td>\n",
       "      <td>112078727.0</td>\n",
       "      <td>Africa</td>\n",
       "      <td>6.892477</td>\n",
       "    </tr>\n",
       "    <tr>\n",
       "      <th>18938</th>\n",
       "      <td>2020-12-09</td>\n",
       "      <td>9</td>\n",
       "      <td>12</td>\n",
       "      <td>2020</td>\n",
       "      <td>531</td>\n",
       "      <td>11</td>\n",
       "      <td>Ethiopia</td>\n",
       "      <td>ET</td>\n",
       "      <td>ETH</td>\n",
       "      <td>112078727.0</td>\n",
       "      <td>Africa</td>\n",
       "      <td>6.847865</td>\n",
       "    </tr>\n",
       "    <tr>\n",
       "      <th>18939</th>\n",
       "      <td>2020-12-08</td>\n",
       "      <td>8</td>\n",
       "      <td>12</td>\n",
       "      <td>2020</td>\n",
       "      <td>440</td>\n",
       "      <td>8</td>\n",
       "      <td>Ethiopia</td>\n",
       "      <td>ET</td>\n",
       "      <td>ETH</td>\n",
       "      <td>112078727.0</td>\n",
       "      <td>Africa</td>\n",
       "      <td>6.720276</td>\n",
       "    </tr>\n",
       "    <tr>\n",
       "      <th>...</th>\n",
       "      <td>...</td>\n",
       "      <td>...</td>\n",
       "      <td>...</td>\n",
       "      <td>...</td>\n",
       "      <td>...</td>\n",
       "      <td>...</td>\n",
       "      <td>...</td>\n",
       "      <td>...</td>\n",
       "      <td>...</td>\n",
       "      <td>...</td>\n",
       "      <td>...</td>\n",
       "      <td>...</td>\n",
       "    </tr>\n",
       "    <tr>\n",
       "      <th>19205</th>\n",
       "      <td>2020-03-17</td>\n",
       "      <td>17</td>\n",
       "      <td>3</td>\n",
       "      <td>2020</td>\n",
       "      <td>1</td>\n",
       "      <td>0</td>\n",
       "      <td>Ethiopia</td>\n",
       "      <td>ET</td>\n",
       "      <td>ETH</td>\n",
       "      <td>112078727.0</td>\n",
       "      <td>Africa</td>\n",
       "      <td>NaN</td>\n",
       "    </tr>\n",
       "    <tr>\n",
       "      <th>19206</th>\n",
       "      <td>2020-03-16</td>\n",
       "      <td>16</td>\n",
       "      <td>3</td>\n",
       "      <td>2020</td>\n",
       "      <td>3</td>\n",
       "      <td>0</td>\n",
       "      <td>Ethiopia</td>\n",
       "      <td>ET</td>\n",
       "      <td>ETH</td>\n",
       "      <td>112078727.0</td>\n",
       "      <td>Africa</td>\n",
       "      <td>NaN</td>\n",
       "    </tr>\n",
       "    <tr>\n",
       "      <th>19207</th>\n",
       "      <td>2020-03-15</td>\n",
       "      <td>15</td>\n",
       "      <td>3</td>\n",
       "      <td>2020</td>\n",
       "      <td>0</td>\n",
       "      <td>0</td>\n",
       "      <td>Ethiopia</td>\n",
       "      <td>ET</td>\n",
       "      <td>ETH</td>\n",
       "      <td>112078727.0</td>\n",
       "      <td>Africa</td>\n",
       "      <td>NaN</td>\n",
       "    </tr>\n",
       "    <tr>\n",
       "      <th>19208</th>\n",
       "      <td>2020-03-14</td>\n",
       "      <td>14</td>\n",
       "      <td>3</td>\n",
       "      <td>2020</td>\n",
       "      <td>1</td>\n",
       "      <td>0</td>\n",
       "      <td>Ethiopia</td>\n",
       "      <td>ET</td>\n",
       "      <td>ETH</td>\n",
       "      <td>112078727.0</td>\n",
       "      <td>Africa</td>\n",
       "      <td>NaN</td>\n",
       "    </tr>\n",
       "    <tr>\n",
       "      <th>19209</th>\n",
       "      <td>2020-12-14</td>\n",
       "      <td>14</td>\n",
       "      <td>12</td>\n",
       "      <td>2020</td>\n",
       "      <td>0</td>\n",
       "      <td>0</td>\n",
       "      <td>Falkland_Islands_(Malvinas)</td>\n",
       "      <td>FK</td>\n",
       "      <td>FLK</td>\n",
       "      <td>3372.0</td>\n",
       "      <td>America</td>\n",
       "      <td>59.311981</td>\n",
       "    </tr>\n",
       "  </tbody>\n",
       "</table>\n",
       "<p>275 rows × 12 columns</p>\n",
       "</div>"
      ],
      "text/plain": [
       "         dateRep  day  month  year  cases  deaths  \\\n",
       "18935 2020-12-12   12     12  2020    422      12   \n",
       "18936 2020-12-11   11     12  2020    526      10   \n",
       "18937 2020-12-10   10     12  2020    568       3   \n",
       "18938 2020-12-09    9     12  2020    531      11   \n",
       "18939 2020-12-08    8     12  2020    440       8   \n",
       "...          ...  ...    ...   ...    ...     ...   \n",
       "19205 2020-03-17   17      3  2020      1       0   \n",
       "19206 2020-03-16   16      3  2020      3       0   \n",
       "19207 2020-03-15   15      3  2020      0       0   \n",
       "19208 2020-03-14   14      3  2020      1       0   \n",
       "19209 2020-12-14   14     12  2020      0       0   \n",
       "\n",
       "           countriesAndTerritories geoId countryterritoryCode  popData2019  \\\n",
       "18935                     Ethiopia    ET                  ETH  112078727.0   \n",
       "18936                     Ethiopia    ET                  ETH  112078727.0   \n",
       "18937                     Ethiopia    ET                  ETH  112078727.0   \n",
       "18938                     Ethiopia    ET                  ETH  112078727.0   \n",
       "18939                     Ethiopia    ET                  ETH  112078727.0   \n",
       "...                            ...   ...                  ...          ...   \n",
       "19205                     Ethiopia    ET                  ETH  112078727.0   \n",
       "19206                     Ethiopia    ET                  ETH  112078727.0   \n",
       "19207                     Ethiopia    ET                  ETH  112078727.0   \n",
       "19208                     Ethiopia    ET                  ETH  112078727.0   \n",
       "19209  Falkland_Islands_(Malvinas)    FK                  FLK       3372.0   \n",
       "\n",
       "      continentExp  Cumulative_number_for_14_days_of_COVID-19_cases_per_100000  \n",
       "18935       Africa                                           6.552537           \n",
       "18936       Africa                                           6.862141           \n",
       "18937       Africa                                           6.892477           \n",
       "18938       Africa                                           6.847865           \n",
       "18939       Africa                                           6.720276           \n",
       "...            ...                                                ...           \n",
       "19205       Africa                                                NaN           \n",
       "19206       Africa                                                NaN           \n",
       "19207       Africa                                                NaN           \n",
       "19208       Africa                                                NaN           \n",
       "19209      America                                          59.311981           \n",
       "\n",
       "[275 rows x 12 columns]"
      ]
     },
     "execution_count": 9,
     "metadata": {},
     "output_type": "execute_result"
    }
   ],
   "source": [
    "df = pandas.read_excel('s3://wei-ia241-jd/COVID-19-geographic-disbtribution-worldwide-2020-12-14-2.xls')\n",
    "\n",
    "df[18935:19210]"
   ]
  },
  {
   "cell_type": "markdown",
   "id": "7cde0f70",
   "metadata": {},
   "source": [
    "## Number of Covid-19 Cases in Ethiopia in 2020"
   ]
  },
  {
   "cell_type": "code",
   "execution_count": 42,
   "id": "66e5aa2d",
   "metadata": {
    "scrolled": false
   },
   "outputs": [
    {
     "data": {
      "text/html": [
       "<div>\n",
       "<style scoped>\n",
       "    .dataframe tbody tr th:only-of-type {\n",
       "        vertical-align: middle;\n",
       "    }\n",
       "\n",
       "    .dataframe tbody tr th {\n",
       "        vertical-align: top;\n",
       "    }\n",
       "\n",
       "    .dataframe thead th {\n",
       "        text-align: right;\n",
       "    }\n",
       "</style>\n",
       "<table border=\"1\" class=\"dataframe\">\n",
       "  <thead>\n",
       "    <tr style=\"text-align: right;\">\n",
       "      <th></th>\n",
       "      <th>dateRep</th>\n",
       "      <th>day</th>\n",
       "      <th>month</th>\n",
       "      <th>year</th>\n",
       "      <th>cases</th>\n",
       "      <th>deaths</th>\n",
       "      <th>countriesAndTerritories</th>\n",
       "      <th>geoId</th>\n",
       "      <th>countryterritoryCode</th>\n",
       "      <th>popData2019</th>\n",
       "      <th>continentExp</th>\n",
       "      <th>Cumulative_number_for_14_days_of_COVID-19_cases_per_100000</th>\n",
       "    </tr>\n",
       "  </thead>\n",
       "  <tbody>\n",
       "    <tr>\n",
       "      <th>18933</th>\n",
       "      <td>2020-12-14</td>\n",
       "      <td>14</td>\n",
       "      <td>12</td>\n",
       "      <td>2020</td>\n",
       "      <td>472</td>\n",
       "      <td>3</td>\n",
       "      <td>Ethiopia</td>\n",
       "      <td>ET</td>\n",
       "      <td>ETH</td>\n",
       "      <td>112078727.0</td>\n",
       "      <td>Africa</td>\n",
       "      <td>6.455284</td>\n",
       "    </tr>\n",
       "    <tr>\n",
       "      <th>18934</th>\n",
       "      <td>2020-12-13</td>\n",
       "      <td>13</td>\n",
       "      <td>12</td>\n",
       "      <td>2020</td>\n",
       "      <td>515</td>\n",
       "      <td>12</td>\n",
       "      <td>Ethiopia</td>\n",
       "      <td>ET</td>\n",
       "      <td>ETH</td>\n",
       "      <td>112078727.0</td>\n",
       "      <td>Africa</td>\n",
       "      <td>6.573058</td>\n",
       "    </tr>\n",
       "    <tr>\n",
       "      <th>18935</th>\n",
       "      <td>2020-12-12</td>\n",
       "      <td>12</td>\n",
       "      <td>12</td>\n",
       "      <td>2020</td>\n",
       "      <td>422</td>\n",
       "      <td>12</td>\n",
       "      <td>Ethiopia</td>\n",
       "      <td>ET</td>\n",
       "      <td>ETH</td>\n",
       "      <td>112078727.0</td>\n",
       "      <td>Africa</td>\n",
       "      <td>6.552537</td>\n",
       "    </tr>\n",
       "    <tr>\n",
       "      <th>18936</th>\n",
       "      <td>2020-12-11</td>\n",
       "      <td>11</td>\n",
       "      <td>12</td>\n",
       "      <td>2020</td>\n",
       "      <td>526</td>\n",
       "      <td>10</td>\n",
       "      <td>Ethiopia</td>\n",
       "      <td>ET</td>\n",
       "      <td>ETH</td>\n",
       "      <td>112078727.0</td>\n",
       "      <td>Africa</td>\n",
       "      <td>6.862141</td>\n",
       "    </tr>\n",
       "    <tr>\n",
       "      <th>18937</th>\n",
       "      <td>2020-12-10</td>\n",
       "      <td>10</td>\n",
       "      <td>12</td>\n",
       "      <td>2020</td>\n",
       "      <td>568</td>\n",
       "      <td>3</td>\n",
       "      <td>Ethiopia</td>\n",
       "      <td>ET</td>\n",
       "      <td>ETH</td>\n",
       "      <td>112078727.0</td>\n",
       "      <td>Africa</td>\n",
       "      <td>6.892477</td>\n",
       "    </tr>\n",
       "    <tr>\n",
       "      <th>...</th>\n",
       "      <td>...</td>\n",
       "      <td>...</td>\n",
       "      <td>...</td>\n",
       "      <td>...</td>\n",
       "      <td>...</td>\n",
       "      <td>...</td>\n",
       "      <td>...</td>\n",
       "      <td>...</td>\n",
       "      <td>...</td>\n",
       "      <td>...</td>\n",
       "      <td>...</td>\n",
       "      <td>...</td>\n",
       "    </tr>\n",
       "    <tr>\n",
       "      <th>19204</th>\n",
       "      <td>2020-03-18</td>\n",
       "      <td>18</td>\n",
       "      <td>3</td>\n",
       "      <td>2020</td>\n",
       "      <td>0</td>\n",
       "      <td>0</td>\n",
       "      <td>Ethiopia</td>\n",
       "      <td>ET</td>\n",
       "      <td>ETH</td>\n",
       "      <td>112078727.0</td>\n",
       "      <td>Africa</td>\n",
       "      <td>NaN</td>\n",
       "    </tr>\n",
       "    <tr>\n",
       "      <th>19205</th>\n",
       "      <td>2020-03-17</td>\n",
       "      <td>17</td>\n",
       "      <td>3</td>\n",
       "      <td>2020</td>\n",
       "      <td>1</td>\n",
       "      <td>0</td>\n",
       "      <td>Ethiopia</td>\n",
       "      <td>ET</td>\n",
       "      <td>ETH</td>\n",
       "      <td>112078727.0</td>\n",
       "      <td>Africa</td>\n",
       "      <td>NaN</td>\n",
       "    </tr>\n",
       "    <tr>\n",
       "      <th>19206</th>\n",
       "      <td>2020-03-16</td>\n",
       "      <td>16</td>\n",
       "      <td>3</td>\n",
       "      <td>2020</td>\n",
       "      <td>3</td>\n",
       "      <td>0</td>\n",
       "      <td>Ethiopia</td>\n",
       "      <td>ET</td>\n",
       "      <td>ETH</td>\n",
       "      <td>112078727.0</td>\n",
       "      <td>Africa</td>\n",
       "      <td>NaN</td>\n",
       "    </tr>\n",
       "    <tr>\n",
       "      <th>19207</th>\n",
       "      <td>2020-03-15</td>\n",
       "      <td>15</td>\n",
       "      <td>3</td>\n",
       "      <td>2020</td>\n",
       "      <td>0</td>\n",
       "      <td>0</td>\n",
       "      <td>Ethiopia</td>\n",
       "      <td>ET</td>\n",
       "      <td>ETH</td>\n",
       "      <td>112078727.0</td>\n",
       "      <td>Africa</td>\n",
       "      <td>NaN</td>\n",
       "    </tr>\n",
       "    <tr>\n",
       "      <th>19208</th>\n",
       "      <td>2020-03-14</td>\n",
       "      <td>14</td>\n",
       "      <td>3</td>\n",
       "      <td>2020</td>\n",
       "      <td>1</td>\n",
       "      <td>0</td>\n",
       "      <td>Ethiopia</td>\n",
       "      <td>ET</td>\n",
       "      <td>ETH</td>\n",
       "      <td>112078727.0</td>\n",
       "      <td>Africa</td>\n",
       "      <td>NaN</td>\n",
       "    </tr>\n",
       "  </tbody>\n",
       "</table>\n",
       "<p>276 rows × 12 columns</p>\n",
       "</div>"
      ],
      "text/plain": [
       "         dateRep  day  month  year  cases  deaths countriesAndTerritories  \\\n",
       "18933 2020-12-14   14     12  2020    472       3                Ethiopia   \n",
       "18934 2020-12-13   13     12  2020    515      12                Ethiopia   \n",
       "18935 2020-12-12   12     12  2020    422      12                Ethiopia   \n",
       "18936 2020-12-11   11     12  2020    526      10                Ethiopia   \n",
       "18937 2020-12-10   10     12  2020    568       3                Ethiopia   \n",
       "...          ...  ...    ...   ...    ...     ...                     ...   \n",
       "19204 2020-03-18   18      3  2020      0       0                Ethiopia   \n",
       "19205 2020-03-17   17      3  2020      1       0                Ethiopia   \n",
       "19206 2020-03-16   16      3  2020      3       0                Ethiopia   \n",
       "19207 2020-03-15   15      3  2020      0       0                Ethiopia   \n",
       "19208 2020-03-14   14      3  2020      1       0                Ethiopia   \n",
       "\n",
       "      geoId countryterritoryCode  popData2019 continentExp  \\\n",
       "18933    ET                  ETH  112078727.0       Africa   \n",
       "18934    ET                  ETH  112078727.0       Africa   \n",
       "18935    ET                  ETH  112078727.0       Africa   \n",
       "18936    ET                  ETH  112078727.0       Africa   \n",
       "18937    ET                  ETH  112078727.0       Africa   \n",
       "...     ...                  ...          ...          ...   \n",
       "19204    ET                  ETH  112078727.0       Africa   \n",
       "19205    ET                  ETH  112078727.0       Africa   \n",
       "19206    ET                  ETH  112078727.0       Africa   \n",
       "19207    ET                  ETH  112078727.0       Africa   \n",
       "19208    ET                  ETH  112078727.0       Africa   \n",
       "\n",
       "       Cumulative_number_for_14_days_of_COVID-19_cases_per_100000  \n",
       "18933                                           6.455284           \n",
       "18934                                           6.573058           \n",
       "18935                                           6.552537           \n",
       "18936                                           6.862141           \n",
       "18937                                           6.892477           \n",
       "...                                                  ...           \n",
       "19204                                                NaN           \n",
       "19205                                                NaN           \n",
       "19206                                                NaN           \n",
       "19207                                                NaN           \n",
       "19208                                                NaN           \n",
       "\n",
       "[276 rows x 12 columns]"
      ]
     },
     "execution_count": 42,
     "metadata": {},
     "output_type": "execute_result"
    }
   ],
   "source": [
    "ethiopia_data = df.loc[df['countriesAndTerritories'] == 'Ethiopia']\n",
    "ethiopia_data[:]"
   ]
  },
  {
   "cell_type": "markdown",
   "id": "b50f1e82",
   "metadata": {},
   "source": [
    "## Number of Covid-19 Cases Over Time in Ethiopia"
   ]
  },
  {
   "cell_type": "code",
   "execution_count": 47,
   "id": "44f29cae",
   "metadata": {},
   "outputs": [
    {
     "data": {
      "text/plain": [
       "<AxesSubplot:xlabel='dateRep'>"
      ]
     },
     "execution_count": 47,
     "metadata": {},
     "output_type": "execute_result"
    },
    {
     "data": {
      "image/png": "[encoded data removed]",
      "text/plain": [
       "<Figure size 432x288 with 1 Axes>"
      ]
     },
     "metadata": {
      "needs_background": "light"
     },
     "output_type": "display_data"
    }
   ],
   "source": [
    "ethiopia_data.sort_values(by=['dateRep']).plot(x='dateRep',y='cases')"
   ]
  },
  {
   "cell_type": "markdown",
   "id": "e440fca2",
   "metadata": {},
   "source": [
    "The first Covid-19 case was discovered March 19th of 2020 and remained under 10 total cases until May. It reached its highest point in August at around 1800 cases. It slowly declined to around 500 total cases in October then remained at that number through December."
   ]
  },
  {
   "cell_type": "code",
   "execution_count": 61,
   "id": "cf60710c",
   "metadata": {},
   "outputs": [
    {
     "name": "stdout",
     "output_type": "stream",
     "text": [
      "116769\n"
     ]
    }
   ],
   "source": [
    "sum_cases = ethiopia_data.sum()['cases']\n",
    "print(sum_cases)"
   ]
  },
  {
   "cell_type": "markdown",
   "id": "656a3049",
   "metadata": {},
   "source": [
    "The total number of cases in 2020 in Ethiopia was 116769."
   ]
  },
  {
   "cell_type": "markdown",
   "id": "bda4dfcb",
   "metadata": {},
   "source": [
    "## Number of Covid-19 Deaths in Ethiopia in 2020"
   ]
  },
  {
   "cell_type": "code",
   "execution_count": 48,
   "id": "7b090543",
   "metadata": {
    "scrolled": true
   },
   "outputs": [
    {
     "data": {
      "text/plain": [
       "<AxesSubplot:xlabel='dateRep'>"
      ]
     },
     "execution_count": 48,
     "metadata": {},
     "output_type": "execute_result"
    },
    {
     "data": {
      "image/png": "[encoded data removed]",
      "text/plain": [
       "<Figure size 432x288 with 1 Axes>"
      ]
     },
     "metadata": {
      "needs_background": "light"
     },
     "output_type": "display_data"
    }
   ],
   "source": [
    "ethiopia_data.sort_values(by=['dateRep']).plot.(x='dateRep',y='deaths')\n"
   ]
  },
  {
   "cell_type": "markdown",
   "id": "489c4a3f",
   "metadata": {},
   "source": [
    "From March to June the death rate per day has been under 10. Then from July to September it rose to an average of around 20 deaths per day. Finally from October to December it fell back down to around 10 deaths each day."
   ]
  },
  {
   "cell_type": "code",
   "execution_count": 60,
   "id": "b2e99581",
   "metadata": {},
   "outputs": [
    {
     "name": "stdout",
     "output_type": "stream",
     "text": [
      "1806\n"
     ]
    }
   ],
   "source": [
    "sum_deaths = ethiopia_data.sum()['deaths']\n",
    "print(sum_deaths)"
   ]
  },
  {
   "cell_type": "markdown",
   "id": "bcbc4a69",
   "metadata": {},
   "source": [
    "The total number of deaths in Ethiopia in 2020 was 1806."
   ]
  },
  {
   "cell_type": "markdown",
   "id": "7ef3e9dd",
   "metadata": {},
   "source": [
    "## Deaths by Months"
   ]
  },
  {
   "cell_type": "code",
   "execution_count": 58,
   "id": "48289f4e",
   "metadata": {},
   "outputs": [],
   "source": [
    "month_deaths = ethiopia_data.groupby('month').sum()['deaths']\n"
   ]
  },
  {
   "cell_type": "code",
   "execution_count": 51,
   "id": "7ae5ff46",
   "metadata": {},
   "outputs": [
    {
     "data": {
      "text/plain": [
       "<AxesSubplot:xlabel='month'>"
      ]
     },
     "execution_count": 51,
     "metadata": {},
     "output_type": "execute_result"
    },
    {
     "data": {
      "image/png": "[encoded data removed]",
      "text/plain": [
       "<Figure size 432x288 with 1 Axes>"
      ]
     },
     "metadata": {
      "needs_background": "light"
     },
     "output_type": "display_data"
    }
   ],
   "source": [
    "month_deaths.plot.bar()"
   ]
  },
  {
   "cell_type": "markdown",
   "id": "68b34d67",
   "metadata": {},
   "source": [
    "August showed the most Covid-19 deaths in 2020 in Ethiophia as shown in the bar graph above."
   ]
  },
  {
   "cell_type": "markdown",
   "id": "34d73788",
   "metadata": {},
   "source": [
    "## Conclusion"
   ]
  },
  {
   "cell_type": "markdown",
   "id": "08317989",
   "metadata": {},
   "source": [
    "The conclusions I can take from this data is that the overall cases and deaths began to rise in June of 2020, peaked in August, then gradually fell down to a low point of 100. The total number of Covid-19 cases in Ethiopia in 2020 is 116769 and the total number of deaths in Ethiopia is 1806. The month with the highest number of cases is August with a little over 500. The limitations for this assignment include the fact that I am a beginner in Python and it was challenging to find the code for these solutions. Some days in the year were did not record any cases or deaths in the hight of the pandemic, so it was not completely accurate."
   ]
  }
 ],
 "metadata": {
  "kernelspec": {
   "display_name": "conda_python3",
   "language": "python",
   "name": "conda_python3"
  },
  "language_info": {
   "codemirror_mode": {
    "name": "ipython",
    "version": 3
   },
   "file_extension": ".py",
   "mimetype": "text/x-python",
   "name": "python",
   "nbconvert_exporter": "python",
   "pygments_lexer": "ipython3",
   "version": "3.6.13"
  }
 },
 "nbformat": 4,
 "nbformat_minor": 5
}
